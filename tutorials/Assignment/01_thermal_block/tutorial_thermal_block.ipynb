{
  "cells": [
    {
      "cell_type": "markdown",
      "metadata": {
        "id": "BArAujrhV3iV"
      },
      "source": [
        "## TUTORIAL 01 - Thermal block problem\n",
        "**_Keywords: certified reduced basis method, scalar problem_**\n",
        "\n",
        "### 1. Introduction\n",
        "In this Tutorial, we consider steady heat conduction in a two-dimensional domain $\\Omega$.\n",
        "\n",
        "<img src=\"https://github.com/RBniCS/RBniCS/raw/master/tutorials/01_thermal_block/data/thermal_block.png\" />\n",
        "\n",
        "We define two subdomains $\\Omega_1$ and $\\Omega_2$, such that\n",
        "1. $\\Omega_1$ is a disk centered at the origin of radius $r_0=0.5$, and\n",
        "2. $\\Omega_2=\\Omega/\\ \\overline{\\Omega_1}$.\n",
        "\n",
        "The conductivity $\\kappa$ is assumed to be constant on $\\Omega_1$ and $\\Omega_2$, i.e.\n",
        "$$\n",
        "\\kappa|_{\\Omega_1}=\\kappa_0 \\quad \\textrm{and} \\quad \\kappa|_{\\Omega_2}=1.\n",
        "$$\n",
        "\n",
        "For this problem, we consider $P=2$ parameters:\n",
        "1. the first one is related to the conductivity in $\\Omega_1$, i.e. $\\mu_0\\equiv k_0$ (_note that parameters numbering is zero-based_);\n",
        "2. the second parameter $\\mu_1$ takes into account the constant heat flux over $\\Gamma_{base}$.\n",
        "\n",
        "The parameter vector $\\boldsymbol{\\mu}$ is thus given by\n",
        "$$\n",
        "\\boldsymbol{\\mu} = (\\mu_0,\\mu_1)\n",
        "$$\n",
        "on the parameter domain\n",
        "$$\n",
        "\\mathbb{P}=[0.1,10]\\times[-1,1].\n",
        "$$\n",
        "\n",
        "In this problem we model the heat transfer process due to the heat flux over the bottom boundary $\\Gamma_{base}$ and the following conditions on the remaining boundaries:\n",
        "* the left and right boundaries $\\Gamma_{side}$ are insulated,\n",
        "* the top boundary $\\Gamma_{top}$ is kept at a reference temperature (say, zero),\n",
        "\n",
        "with the aim of measuring the average temperature on $\\Gamma_{base}$.\n",
        "\n",
        "In order to obtain a faster evaluation (yet, provably accurate) of the output of interest we propose to use a certified reduced basis approximation for the problem."
      ]
    },
    {
      "cell_type": "code",
      "execution_count": 49,
      "metadata": {
        "id": "fenics_installation"
      },
      "outputs": [],
      "source": [
        "# Install FEniCS\n",
        "try:\n",
        "    import dolfin\n",
        "except ImportError:\n",
        "    !wget \"https://fem-on-colab.github.io/releases/fenics-install-release-real.sh\" -O \"/tmp/fenics-install.sh\" && bash \"/tmp/fenics-install.sh\"\n",
        "    import dolfin"
      ]
    },
    {
      "cell_type": "code",
      "execution_count": 50,
      "metadata": {
        "id": "rbnics_installation"
      },
      "outputs": [],
      "source": [
        "# Install RBniCS\n",
        "try:\n",
        "    import rbnics\n",
        "except ImportError:\n",
        "    !pip3 install git+https://github.com/RBniCS/RBniCS.git\n",
        "    import rbnics\n",
        "import rbnics.utils.config\n",
        "assert \"dolfin\" in rbnics.utils.config.config.get(\"backends\", \"required backends\")"
      ]
    },
    {
      "cell_type": "code",
      "execution_count": 51,
      "metadata": {
        "id": "auxiliary_files"
      },
      "outputs": [],
      "source": [
        "# Download data files\n",
        "!mkdir -p data\n",
        "![ -f data/thermal_block.xml ] || wget https://github.com/RBniCS/RBniCS/raw/master/tutorials/01_thermal_block/data/thermal_block.xml -O data/thermal_block.xml\n",
        "![ -f data/thermal_block_facet_region.xml ] || wget https://github.com/RBniCS/RBniCS/raw/master/tutorials/01_thermal_block/data/thermal_block_facet_region.xml -O data/thermal_block_facet_region.xml\n",
        "![ -f data/thermal_block_physical_region.xml ] || wget https://github.com/RBniCS/RBniCS/raw/master/tutorials/01_thermal_block/data/thermal_block_physical_region.xml -O data/thermal_block_physical_region.xml"
      ]
    },
    {
      "cell_type": "markdown",
      "metadata": {
        "id": "nZqKKfQmV3ib"
      },
      "source": [
        "### 2. Parametrized formulation\n",
        "\n",
        "Let $u(\\boldsymbol{\\mu})$ be the temperature in the domain $\\Omega$.\n",
        "\n",
        "The strong formulation of the parametrized problem is given by:\n",
        "<center>for a given parameter $\\boldsymbol{\\mu}\\in\\mathbb{P}$, find $u(\\boldsymbol{\\mu})$ such that</center>\n",
        "\n",
        "$$\n",
        "\\begin{cases}\n",
        "\t- \\text{div} (\\kappa(\\mu_0)\\nabla u(\\boldsymbol{\\mu})) = 0 & \\text{in } \\Omega,\\\\\n",
        "\tu(\\boldsymbol{\\mu}) = 0 & \\text{on } \\Gamma_{top},\\\\\n",
        "\t\\kappa(\\mu_0)\\nabla u(\\boldsymbol{\\mu})\\cdot \\mathbf{n} = 0 & \\text{on } \\Gamma_{side},\\\\\n",
        "\t\\kappa(\\mu_0)\\nabla u(\\boldsymbol{\\mu})\\cdot \\mathbf{n} = \\mu_1 & \\text{on } \\Gamma_{base}.\n",
        "\\end{cases}\n",
        "$$\n",
        "<br>\n",
        "\n",
        "where\n",
        "* $\\mathbf{n}$ denotes the outer normal to the boundaries $\\Gamma_{side}$ and $\\Gamma_{base}$,\n",
        "* the conductivity $\\kappa(\\mu_0)$ is defined as follows:\n",
        "$$\n",
        "\\kappa(\\mu_0) =\n",
        "\\begin{cases}\n",
        "\t\\mu_0 & \\text{in } \\Omega_1,\\\\\n",
        "\t1 & \\text{in } \\Omega_2,\\\\\n",
        "\\end{cases}\n",
        "$$\n",
        "\n",
        "The corresponding weak formulation reads:\n",
        "<center>for a given parameter $\\boldsymbol{\\mu}\\in\\mathbb{P}$, find $u(\\boldsymbol{\\mu})\\in\\mathbb{V}$ such that</center>\n",
        "\n",
        "$$a\\left(u(\\boldsymbol{\\mu}),v;\\boldsymbol{\\mu}\\right)=f(v;\\boldsymbol{\\mu})\\quad \\forall v\\in\\mathbb{V}$$\n",
        "\n",
        "where\n",
        "\n",
        "* the function space $\\mathbb{V}$ is defined as\n",
        "$$\n",
        "\\mathbb{V} = \\{v\\in H^1(\\Omega) : v|_{\\Gamma_{top}}=0\\}\n",
        "$$\n",
        "* the parametrized bilinear form $a(\\cdot, \\cdot; \\boldsymbol{\\mu}): \\mathbb{V} \\times \\mathbb{V} \\to \\mathbb{R}$ is defined by\n",
        "$$a(u, v;\\boldsymbol{\\mu})=\\int_{\\Omega} \\kappa(\\mu_0)\\nabla u\\cdot \\nabla v \\ d\\boldsymbol{x},$$\n",
        "* the parametrized linear form $f(\\cdot; \\boldsymbol{\\mu}): \\mathbb{V} \\to \\mathbb{R}$ is defined by\n",
        "$$f(v; \\boldsymbol{\\mu})= \\mu_1\\int_{\\Gamma_{base}}v \\ ds.$$\n",
        "\n",
        "The (compliant) output of interest $s(\\boldsymbol{\\mu})$ given by\n",
        "$$s(\\boldsymbol{\\mu}) = \\mu_1\\int_{\\Gamma_{base}} u(\\boldsymbol{\\mu})$$\n",
        "is computed for each $\\boldsymbol{\\mu}$."
      ]
    },
    {
      "cell_type": "code",
      "execution_count": 52,
      "metadata": {
        "id": "bBtSOTtdV3ib"
      },
      "outputs": [],
      "source": [
        "from dolfin import *\n",
        "from rbnics import *"
      ]
    },
    {
      "cell_type": "markdown",
      "metadata": {
        "id": "bp1tQoBqV3ib"
      },
      "source": [
        "## 3. Affine decomposition\n",
        "\n",
        "For this problem the affine decomposition is straightforward:\n",
        "$$a(u,v;\\boldsymbol{\\mu})=\\underbrace{\\mu_0}_{\\Theta^{a}_0(\\boldsymbol{\\mu})}\\underbrace{\\int_{\\Omega_1}\\nabla u \\cdot \\nabla v \\ d\\boldsymbol{x}}_{a_0(u,v)} \\ + \\  \\underbrace{1}_{\\Theta^{a}_1(\\boldsymbol{\\mu})}\\underbrace{\\int_{\\Omega_2}\\nabla u \\cdot \\nabla v \\ d\\boldsymbol{x}}_{a_1(u,v)},$$\n",
        "$$f(v; \\boldsymbol{\\mu}) = \\underbrace{\\mu_1}_{\\Theta^{f}_0(\\boldsymbol{\\mu})} \\underbrace{\\int_{\\Gamma_{base}}v \\ ds}_{f_0(v)}.$$\n",
        "We will implement the numerical discretization of the problem in the class\n",
        "```\n",
        "class ThermalBlock(EllipticCoerciveCompliantProblem):\n",
        "```\n",
        "by specifying the coefficients $\\Theta^{a}_*(\\boldsymbol{\\mu})$ and $\\Theta^{f}_*(\\boldsymbol{\\mu})$ in the method\n",
        "```\n",
        "    def compute_theta(self, term):     \n",
        "```\n",
        "and the bilinear forms $a_*(u, v)$ and linear forms $f_*(v)$ in\n",
        "```\n",
        "    def assemble_operator(self, term):\n",
        "```"
      ]
    },
    {
      "cell_type": "code",
      "execution_count": 53,
      "metadata": {
        "id": "bFYGkqH7V3ib"
      },
      "outputs": [],
      "source": [
        "class ThermalBlock(EllipticCoerciveCompliantProblem):\n",
        "\n",
        "    # Default initialization of members\n",
        "    def __init__(self, V, **kwargs):\n",
        "        # Call the standard initialization\n",
        "        EllipticCoerciveCompliantProblem.__init__(self, V, **kwargs)\n",
        "        # ... and also store FEniCS data structures for assembly\n",
        "        assert \"subdomains\" in kwargs\n",
        "        assert \"boundaries\" in kwargs\n",
        "        self.subdomains, self.boundaries = kwargs[\"subdomains\"], kwargs[\"boundaries\"]\n",
        "        self.u = TrialFunction(V)\n",
        "        self.v = TestFunction(V)\n",
        "        self.dx = Measure(\"dx\")(subdomain_data=self.subdomains)\n",
        "        self.ds = Measure(\"ds\")(subdomain_data=self.boundaries)\n",
        "\n",
        "    # Return custom problem name\n",
        "    def name(self):\n",
        "        return \"ThermalBlock\"\n",
        "\n",
        "    # Return the alpha_lower bound.\n",
        "    def get_stability_factor_lower_bound(self):\n",
        "        return min(self.compute_theta(\"a\"))\n",
        "\n",
        "    # Return theta multiplicative terms of the affine expansion of the problem.\n",
        "    def compute_theta(self, term):\n",
        "        mu = self.mu\n",
        "        if term == \"a\":\n",
        "            theta_a0 = mu[0]\n",
        "            theta_a1 = mu[2]\n",
        "            return (theta_a0, theta_a1)\n",
        "        elif term == \"f\":\n",
        "            theta_f0 = mu[1]\n",
        "            return (theta_f0,)\n",
        "        else:\n",
        "            raise ValueError(\"Invalid term for compute_theta().\")\n",
        "\n",
        "    # Return forms resulting from the discretization of the affine expansion of the problem operators.\n",
        "    def assemble_operator(self, term):\n",
        "        v = self.v\n",
        "        dx = self.dx\n",
        "        if term == \"a\":\n",
        "            u = self.u\n",
        "            a0 = inner(grad(u), grad(v)) * dx(1)\n",
        "            a1 = inner(grad(u), grad(v)) * dx(2)\n",
        "            return (a0, a1)\n",
        "        elif term == \"f\":\n",
        "            ds = self.ds\n",
        "            f0 = v * ds(1)\n",
        "            return (f0,)\n",
        "        elif term == \"dirichlet_bc\":\n",
        "            bc0 = [DirichletBC(self.V, Constant(0.0), self.boundaries, 3)]\n",
        "            return (bc0,)\n",
        "        elif term == \"inner_product\":\n",
        "            u = self.u\n",
        "            x0 = inner(grad(u), grad(v)) * dx\n",
        "            return (x0,)\n",
        "        else:\n",
        "            raise ValueError(\"Invalid term for assemble_operator().\")"
      ]
    },
    {
      "cell_type": "markdown",
      "metadata": {
        "id": "zQz-ODPjV3ic"
      },
      "source": [
        "## 4. Main program\n",
        "### 4.1. Read the mesh for this problem\n",
        "The mesh was generated by the [data/generate_mesh.ipynb](https://colab.research.google.com/github/RBniCS/RBniCS/blob/open-in-colab/tutorials/01_thermal_block/data/generate_mesh.ipynb\n",
        ") notebook."
      ]
    },
    {
      "cell_type": "code",
      "execution_count": 54,
      "metadata": {
        "id": "w0E641RAV3ic"
      },
      "outputs": [],
      "source": [
        "mesh = Mesh(\"data/thermal_block.xml\")\n",
        "subdomains = MeshFunction(\"size_t\", mesh, \"data/thermal_block_physical_region.xml\")\n",
        "boundaries = MeshFunction(\"size_t\", mesh, \"data/thermal_block_facet_region.xml\")"
      ]
    },
    {
      "cell_type": "markdown",
      "metadata": {
        "id": "yG8hFXUlV3ic"
      },
      "source": [
        "### 4.2. Create Finite Element space (Lagrange P1)"
      ]
    },
    {
      "cell_type": "code",
      "execution_count": 55,
      "metadata": {
        "id": "W9_-1XyEV3ic"
      },
      "outputs": [],
      "source": [
        "V = FunctionSpace(mesh, \"Lagrange\", 1)"
      ]
    },
    {
      "cell_type": "markdown",
      "metadata": {
        "id": "CTnoHZXPV3ic"
      },
      "source": [
        "### 4.3. Allocate an object of the ThermalBlock class"
      ]
    },
    {
      "cell_type": "code",
      "execution_count": 56,
      "metadata": {
        "id": "L8NR-Go1V3ic"
      },
      "outputs": [],
      "source": [
        "problem = ThermalBlock(V, subdomains=subdomains, boundaries=boundaries)\n",
        "mu_range = [(0.1, 10.0), (-1.0, 1.0), [0.1, 10]]\n",
        "problem.set_mu_range(mu_range)"
      ]
    },
    {
      "cell_type": "markdown",
      "metadata": {
        "id": "TsoAizFfV3id"
      },
      "source": [
        "### 4.4. Prepare reduction with a reduced basis method"
      ]
    },
    {
      "cell_type": "code",
      "execution_count": 57,
      "metadata": {
        "id": "bMOqGeX7V3id"
      },
      "outputs": [],
      "source": [
        "reduction_method = ReducedBasis(problem)\n",
        "reduction_method.set_Nmax(6)\n",
        "reduction_method.set_tolerance(1e-5)"
      ]
    },
    {
      "cell_type": "markdown",
      "metadata": {
        "id": "2Iarx_GuV3id"
      },
      "source": [
        "### 4.5. Perform the offline phase"
      ]
    },
    {
      "cell_type": "code",
      "execution_count": 58,
      "metadata": {
        "id": "EvJ24-IrV3id"
      },
      "outputs": [],
      "source": [
        "reduction_method.initialize_training_set(100)\n",
        "reduced_problem = reduction_method.offline()"
      ]
    },
    {
      "cell_type": "markdown",
      "metadata": {
        "id": "TX9yYBPeV3id"
      },
      "source": [
        "### 4.6. Perform an online solve"
      ]
    },
    {
      "cell_type": "code",
      "execution_count": 63,
      "metadata": {
        "id": "jidTWp1AV3id",
        "outputId": "4bc62e24-588f-4553-8ea9-b5ad464bcb57",
        "colab": {
          "base_uri": "https://localhost:8080/",
          "height": 452
        }
      },
      "outputs": [
        {
          "output_type": "execute_result",
          "data": {
            "text/plain": [
              "<matplotlib.tri._tricontour.TriContourSet at 0x7825d249b410>"
            ]
          },
          "metadata": {},
          "execution_count": 63
        },
        {
          "output_type": "display_data",
          "data": {
            "text/plain": [
              "<Figure size 640x480 with 1 Axes>"
            ],
            "image/png": "[encoded data removed]"
          },
          "metadata": {}
        }
      ],
      "source": [
        "online_mu = (0.1, -1.0, 8.0)\n",
        "reduced_problem.set_mu(online_mu)\n",
        "reduced_solution = reduced_problem.solve()\n",
        "plot(reduced_solution, reduced_problem=reduced_problem)"
      ]
    },
    {
      "cell_type": "markdown",
      "metadata": {
        "id": "sJsZxCJVV3ie"
      },
      "source": [
        "### 4.7. Perform an error analysis"
      ]
    },
    {
      "cell_type": "code",
      "execution_count": 64,
      "metadata": {
        "id": "A76730rTV3ie",
        "outputId": "dd178766-5384-492f-eb24-d721b759c1f9",
        "colab": {
          "base_uri": "https://localhost:8080/"
        }
      },
      "outputs": [
        {
          "output_type": "stream",
          "name": "stdout",
          "text": [
            "======================================================================\n",
            "=               ThermalBlock RB error analysis begins                =\n",
            "======================================================================\n",
            "\n",
            "################################# 0 ##################################\n",
            "################################# 1 ##################################\n",
            "################################# 2 ##################################\n",
            "################################# 3 ##################################\n",
            "################################# 4 ##################################\n",
            "################################# 5 ##################################\n",
            "################################# 6 ##################################\n",
            "################################# 7 ##################################\n",
            "################################# 8 ##################################\n",
            "################################# 9 ##################################\n",
            "################################# 10 #################################\n",
            "################################# 11 #################################\n",
            "################################# 12 #################################\n",
            "################################# 13 #################################\n",
            "################################# 14 #################################\n",
            "################################# 15 #################################\n",
            "################################# 16 #################################\n",
            "################################# 17 #################################\n",
            "################################# 18 #################################\n",
            "################################# 19 #################################\n",
            "################################# 20 #################################\n",
            "################################# 21 #################################\n",
            "################################# 22 #################################\n",
            "################################# 23 #################################\n",
            "################################# 24 #################################\n",
            "################################# 25 #################################\n",
            "################################# 26 #################################\n",
            "################################# 27 #################################\n",
            "################################# 28 #################################\n",
            "################################# 29 #################################\n",
            "################################# 30 #################################\n",
            "################################# 31 #################################\n",
            "################################# 32 #################################\n",
            "################################# 33 #################################\n",
            "################################# 34 #################################\n",
            "################################# 35 #################################\n",
            "################################# 36 #################################\n",
            "################################# 37 #################################\n",
            "################################# 38 #################################\n",
            "################################# 39 #################################\n",
            "################################# 40 #################################\n",
            "################################# 41 #################################\n",
            "################################# 42 #################################\n",
            "################################# 43 #################################\n",
            "################################# 44 #################################\n",
            "################################# 45 #################################\n",
            "################################# 46 #################################\n",
            "################################# 47 #################################\n",
            "################################# 48 #################################\n",
            "################################# 49 #################################\n",
            "################################# 50 #################################\n",
            "################################# 51 #################################\n",
            "################################# 52 #################################\n",
            "################################# 53 #################################\n",
            "################################# 54 #################################\n",
            "################################# 55 #################################\n",
            "################################# 56 #################################\n",
            "################################# 57 #################################\n",
            "################################# 58 #################################\n",
            "################################# 59 #################################\n",
            "################################# 60 #################################\n",
            "################################# 61 #################################\n",
            "################################# 62 #################################\n",
            "################################# 63 #################################\n",
            "################################# 64 #################################\n",
            "################################# 65 #################################\n",
            "################################# 66 #################################\n",
            "################################# 67 #################################\n",
            "################################# 68 #################################\n",
            "################################# 69 #################################\n",
            "################################# 70 #################################\n",
            "################################# 71 #################################\n",
            "################################# 72 #################################\n",
            "################################# 73 #################################\n",
            "################################# 74 #################################\n",
            "################################# 75 #################################\n",
            "################################# 76 #################################\n",
            "################################# 77 #################################\n",
            "################################# 78 #################################\n",
            "################################# 79 #################################\n",
            "################################# 80 #################################\n",
            "################################# 81 #################################\n",
            "################################# 82 #################################\n",
            "################################# 83 #################################\n",
            "################################# 84 #################################\n",
            "################################# 85 #################################\n",
            "################################# 86 #################################\n",
            "################################# 87 #################################\n",
            "################################# 88 #################################\n",
            "################################# 89 #################################\n",
            "################################# 90 #################################\n",
            "################################# 91 #################################\n",
            "################################# 92 #################################\n",
            "################################# 93 #################################\n",
            "################################# 94 #################################\n",
            "################################# 95 #################################\n",
            "################################# 96 #################################\n",
            "################################# 97 #################################\n",
            "################################# 98 #################################\n",
            "################################# 99 #################################\n",
            "\n",
            "N\tgmean(error_u)        \tmax(error_u)          \tgmean(error_estimator_u)\tmax(error_estimator_u)\tmin(effectivity_u)\tgmean(effectivity_u)\tmax(effectivity_u)\n",
            "1\t0.07094219809871787   \t2.3038377537631582    \t0.09167774787729564     \t3.065141943028573     \t1.0029109972818242\t1.2922879518016026  \t4.633231077400463 \n",
            "2\t0.0009787248960212076 \t0.01818991268217493   \t0.0014163532671800964   \t0.06912813704934465   \t1.005239820427371 \t1.447141349870604   \t4.301938474194191 \n",
            "3\t1.047591362088808e-05 \t0.00028646265420822256\t1.5261566343740966e-05  \t0.0010888689080706135 \t1.0052567403616017\t1.4568243779054015  \t4.302762642751431 \n",
            "4\t3.9298289732872024e-07\t2.8692277052013434e-05\t5.889952404124709e-07   \t0.0001085140981783506 \t1.005244763551199 \t1.4987808487751753  \t37.57875813181609 \n",
            "\n",
            "N\tgmean(relative_error_u)\tmax(relative_error_u)\n",
            "1\t0.20076121864080104    \t0.942391392967824    \n",
            "2\t0.0027697196887794258  \t0.009483229023513179 \n",
            "3\t2.9646067379793656e-05 \t0.0003234277576265992\n",
            "4\t1.1121127831833142e-06 \t1.553373751604337e-05\n",
            "\n",
            "N\tgmean(error_output)   \tmax(error_output)    \tgmean(error_estimator_output)\tmax(error_estimator_output)\tmin(effectivity_output)\tgmean(effectivity_output)\tmax(effectivity_output)\n",
            "1\t0.005032795471099372  \t5.307668395664545    \t0.008404809455852986         \t9.395095130912976          \t1.0058304684687016     \t1.6700081503644006       \t21.46683021658741      \n",
            "2\t9.579024284935173e-07 \t0.0003308729233522101\t2.0060565774517338e-06       \t0.004778699331912976       \t1.0105070962341443     \t2.0942180725093644       \t18.506674639529177     \n",
            "3\t1.1393620774104562e-10\t8.206081947292887e-08\t2.32915407264407e-10         \t1.18563549896289e-06       \t0.1621860365858354     \t2.044261537945659        \t18.51378068828671      \n",
            "4\t1.7326965819463415e-13\t8.232134973695793e-10\t3.469153932285445e-13        \t1.1775309503460714e-08     \t0.16955812915791885    \t2.002170471409669        \t18.325948796332064     \n",
            "\n",
            "N\tgmean(relative_error_output)\tmax(relative_error_output)\n",
            "1\t0.04030506691031296         \t0.8881015375398341        \n",
            "2\t7.671347205681068e-06       \t8.993163269404776e-05     \n",
            "3\t9.124564077520636e-10       \t1.0460551856965395e-07    \n",
            "4\t1.3876274541981997e-12      \t2.4127870755873127e-10    \n",
            "\n",
            "======================================================================\n",
            "=                ThermalBlock RB error analysis ends                 =\n",
            "======================================================================\n",
            "\n"
          ]
        }
      ],
      "source": [
        "reduction_method.initialize_testing_set(100)\n",
        "reduction_method.error_analysis()"
      ]
    },
    {
      "cell_type": "markdown",
      "metadata": {
        "id": "q9Q_TI2PV3ie"
      },
      "source": [
        "### 4.8. Perform a speedup analysis"
      ]
    },
    {
      "cell_type": "code",
      "execution_count": 65,
      "metadata": {
        "id": "EHOs5oEEV3ie",
        "outputId": "24942a45-f0b1-441a-a126-eefda9d9fbfc",
        "colab": {
          "base_uri": "https://localhost:8080/"
        }
      },
      "outputs": [
        {
          "output_type": "stream",
          "name": "stdout",
          "text": [
            "======================================================================\n",
            "=              ThermalBlock RB speedup analysis begins               =\n",
            "======================================================================\n",
            "\n",
            "################################# 0 ##################################\n",
            "################################# 1 ##################################\n",
            "################################# 2 ##################################\n",
            "################################# 3 ##################################\n",
            "################################# 4 ##################################\n",
            "################################# 5 ##################################\n",
            "################################# 6 ##################################\n",
            "################################# 7 ##################################\n",
            "################################# 8 ##################################\n",
            "################################# 9 ##################################\n",
            "################################# 10 #################################\n",
            "################################# 11 #################################\n",
            "################################# 12 #################################\n",
            "################################# 13 #################################\n",
            "################################# 14 #################################\n",
            "################################# 15 #################################\n",
            "################################# 16 #################################\n",
            "################################# 17 #################################\n",
            "################################# 18 #################################\n",
            "################################# 19 #################################\n",
            "################################# 20 #################################\n",
            "################################# 21 #################################\n",
            "################################# 22 #################################\n",
            "################################# 23 #################################\n",
            "################################# 24 #################################\n",
            "################################# 25 #################################\n",
            "################################# 26 #################################\n",
            "################################# 27 #################################\n",
            "################################# 28 #################################\n",
            "################################# 29 #################################\n",
            "################################# 30 #################################\n",
            "################################# 31 #################################\n",
            "################################# 32 #################################\n",
            "################################# 33 #################################\n",
            "################################# 34 #################################\n",
            "################################# 35 #################################\n",
            "################################# 36 #################################\n",
            "################################# 37 #################################\n",
            "################################# 38 #################################\n",
            "################################# 39 #################################\n",
            "################################# 40 #################################\n",
            "################################# 41 #################################\n",
            "################################# 42 #################################\n",
            "################################# 43 #################################\n",
            "################################# 44 #################################\n",
            "################################# 45 #################################\n",
            "################################# 46 #################################\n",
            "################################# 47 #################################\n",
            "################################# 48 #################################\n",
            "################################# 49 #################################\n",
            "################################# 50 #################################\n",
            "################################# 51 #################################\n",
            "################################# 52 #################################\n",
            "################################# 53 #################################\n",
            "################################# 54 #################################\n",
            "################################# 55 #################################\n",
            "################################# 56 #################################\n",
            "################################# 57 #################################\n",
            "################################# 58 #################################\n",
            "################################# 59 #################################\n",
            "################################# 60 #################################\n",
            "################################# 61 #################################\n",
            "################################# 62 #################################\n",
            "################################# 63 #################################\n",
            "################################# 64 #################################\n",
            "################################# 65 #################################\n",
            "################################# 66 #################################\n",
            "################################# 67 #################################\n",
            "################################# 68 #################################\n",
            "################################# 69 #################################\n",
            "################################# 70 #################################\n",
            "################################# 71 #################################\n",
            "################################# 72 #################################\n",
            "################################# 73 #################################\n",
            "################################# 74 #################################\n",
            "################################# 75 #################################\n",
            "################################# 76 #################################\n",
            "################################# 77 #################################\n",
            "################################# 78 #################################\n",
            "################################# 79 #################################\n",
            "################################# 80 #################################\n",
            "################################# 81 #################################\n",
            "################################# 82 #################################\n",
            "################################# 83 #################################\n",
            "################################# 84 #################################\n",
            "################################# 85 #################################\n",
            "################################# 86 #################################\n",
            "################################# 87 #################################\n",
            "################################# 88 #################################\n",
            "################################# 89 #################################\n",
            "################################# 90 #################################\n",
            "################################# 91 #################################\n",
            "################################# 92 #################################\n",
            "################################# 93 #################################\n",
            "################################# 94 #################################\n",
            "################################# 95 #################################\n",
            "################################# 96 #################################\n",
            "################################# 97 #################################\n",
            "################################# 98 #################################\n",
            "################################# 99 #################################\n",
            "\n",
            "N\tmin(speedup_solve)\tgmean(speedup_solve)\tmax(speedup_solve)\n",
            "1\t2.3153343926401853\t7.362796950104078   \t10.058934003385087\n",
            "2\t2.998219183606209 \t8.33386389393461    \t10.8386977063806  \n",
            "3\t4.573212422610133 \t8.31915687322014    \t10.581690056999514\n",
            "4\t4.3541685718902   \t8.418790473647892   \t10.923359454921286\n",
            "\n",
            "N\tmin(speedup_solve_and_estimate_error)\tgmean(speedup_solve_and_estimate_error)\tmax(speedup_solve_and_estimate_error)\n",
            "1\t2.6220838706629896                   \t5.0664109351289515                     \t6.443966618089168                    \n",
            "2\t3.2835993726368558                   \t5.540785665788241                      \t6.842708947072686                    \n",
            "3\t3.9682706365374645                   \t5.496490561573962                      \t6.491824378423984                    \n",
            "4\t4.220785688040475                    \t5.569390220480999                      \t7.107815071132826                    \n",
            "\n",
            "N\tmin(speedup_output)\tgmean(speedup_output)\tmax(speedup_output)\n",
            "1\t2.118390568445853  \t5.44246005670048     \t7.364166844234931  \n",
            "2\t2.729222182980532  \t5.949614117306053    \t7.83629198569287   \n",
            "3\t0.9845924441097433 \t5.8338122158191625   \t7.359547749440844  \n",
            "4\t3.2429677287416427 \t5.9751327656024795   \t7.492047370120322  \n",
            "\n",
            "N\tmin(speedup_output_and_estimate_error_output)\tgmean(speedup_output_and_estimate_error_output)\tmax(speedup_output_and_estimate_error_output)\n",
            "1\t1.6341646404105323                           \t3.2529075028432                                \t4.317194490036496                            \n",
            "2\t1.9656882071549044                           \t3.4527760544159807                             \t4.423619544207965                            \n",
            "3\t0.8676062806408457                           \t3.387552988902991                              \t4.344770075076829                            \n",
            "4\t1.922292416877544                            \t3.4747149241171478                             \t4.432663308715175                            \n",
            "\n",
            "======================================================================\n",
            "=               ThermalBlock RB speedup analysis ends                =\n",
            "======================================================================\n",
            "\n"
          ]
        }
      ],
      "source": [
        "reduction_method.initialize_testing_set(100)\n",
        "reduction_method.speedup_analysis()"
      ]
    },
    {
      "cell_type": "markdown",
      "metadata": {
        "id": "3XAy2tjVV3ie"
      },
      "source": [
        "## 5. Assignments\n",
        "1. Assume now also the conductivity on $\\Omega_2$ to be paramerized, i.e.\n",
        "$$\n",
        "\\kappa(\\mu_0, \\mu_2) =\n",
        "\\begin{cases}\n",
        "\t\\mu_0 & \\text{in } \\Omega_1,\\\\\n",
        "\t\\mu_2 & \\text{in } \\Omega_2,\\\\\n",
        "\\end{cases}\n",
        "$$\n",
        "for\n",
        "$$\n",
        "\\boldsymbol{\\mu} = (\\mu_0, \\mu_1, \\mu_2) \\in \\mathbb{P}=[0.1,10]\\times[-1,1] \\times [0.1,10].\n",
        "$$\n",
        "Create a copy of this notebook and update the code accordingly. _Suggestion: for every new notebook copy change the value returned by the name() method of the ThermalBlock class to avoid conflicts between this notebook and your copy_.\n",
        "\n",
        "2. Create another copy of this notebook, and change the model reduction technique from certified reduced basis to POD-Galerkin. Compare the results of the error analysis and speedup analysis for the two reduction techniques.\n",
        "\n",
        "3. [*] Why is the $H^1$ seminorm used on $\\mathbb{V}$? What would you need to change by using the $H^1$ norm instead?"
      ]
    }
  ],
  "metadata": {
    "kernelspec": {
      "display_name": "Python 3",
      "language": "python",
      "name": "python3"
    },
    "language_info": {
      "codemirror_mode": {
        "name": "ipython"
      },
      "file_extension": ".py",
      "mimetype": "text/x-python",
      "name": "python",
      "nbconvert_exporter": "python"
    },
    "colab": {
      "provenance": [],
      "toc_visible": true
    }
  },
  "nbformat": 4,
  "nbformat_minor": 0
}